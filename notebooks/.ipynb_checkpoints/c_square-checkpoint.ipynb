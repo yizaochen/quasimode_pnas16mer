{
 "cells": [
  {
   "cell_type": "code",
   "execution_count": 1,
   "metadata": {},
   "outputs": [],
   "source": [
    "from quasimode.eigenvalue_util import QuasiEigvalue\n",
    "rootfolder = '/home/yizaochen/codes/dna_rna/quasimode_pnas16mer'"
   ]
  },
  {
   "cell_type": "markdown",
   "metadata": {},
   "source": [
    "### Part 1: Get $\\left<c^2_i\\right>$ from mode 1 to mode 5"
   ]
  },
  {
   "cell_type": "code",
   "execution_count": 2,
   "metadata": {},
   "outputs": [],
   "source": [
    "start_modeid = 1\n",
    "end_modeid = 5\n",
    "\n",
    "eig_agent_bdd = QuasiEigvalue(rootfolder, 'bdna+bdna')\n",
    "c_square_array_bdd = eig_agent_bdd.get_c_square_array(start_modeid, end_modeid)\n",
    "eig_agent_arr = QuasiEigvalue(rootfolder, 'arna+arna')\n",
    "c_square_array_arr = eig_agent_bdd.get_c_square_array(start_modeid, end_modeid)"
   ]
  },
  {
   "cell_type": "code",
   "execution_count": 3,
   "metadata": {},
   "outputs": [
    {
     "data": {
      "text/plain": [
       "array([561.0319138 , 441.80605447, 206.46256237, 117.88513963,\n",
       "        78.15143184])"
      ]
     },
     "execution_count": 3,
     "metadata": {},
     "output_type": "execute_result"
    }
   ],
   "source": [
    "c_square_array_bdd"
   ]
  },
  {
   "cell_type": "code",
   "execution_count": 4,
   "metadata": {},
   "outputs": [
    {
     "data": {
      "text/plain": [
       "array([561.0319138 , 441.80605447, 206.46256237, 117.88513963,\n",
       "        78.15143184])"
      ]
     },
     "execution_count": 4,
     "metadata": {},
     "output_type": "execute_result"
    }
   ],
   "source": [
    "c_square_array_arr"
   ]
  },
  {
   "cell_type": "code",
   "execution_count": null,
   "metadata": {},
   "outputs": [],
   "source": []
  }
 ],
 "metadata": {
  "kernelspec": {
   "display_name": "Python 3",
   "language": "python",
   "name": "python3"
  },
  "language_info": {
   "codemirror_mode": {
    "name": "ipython",
    "version": 3
   },
   "file_extension": ".py",
   "mimetype": "text/x-python",
   "name": "python",
   "nbconvert_exporter": "python",
   "pygments_lexer": "ipython3",
   "version": "3.8.5"
  }
 },
 "nbformat": 4,
 "nbformat_minor": 4
}
