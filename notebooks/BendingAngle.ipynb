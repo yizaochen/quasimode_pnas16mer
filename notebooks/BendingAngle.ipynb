{
 "cells": [
  {
   "cell_type": "code",
   "execution_count": 1,
   "metadata": {},
   "outputs": [],
   "source": [
    "import fig4\n",
    "import force_util, eigvect_eigvalue_util\n",
    "d_natoms = {'arna+arna': 676, 'bdna+bdna': 650}\n",
    "\n",
    "start_modeid = 1\n",
    "end_modeid = 5\n",
    "cutoff = 4.7"
   ]
  },
  {
   "cell_type": "code",
   "execution_count": 2,
   "metadata": {},
   "outputs": [],
   "source": [
    "host = 'pnas_amber_16mer'\n",
    "type_na = 'bdna+bdna'\n",
    "n_atoms = d_natoms[type_na]\n",
    "eig_agent_bdd = eigvect_eigvalue_util.EigvectEigvalueAgent(host, type_na, n_atoms)\n",
    "qha_eigenvalues, c_square_array_bdd = eigvect_eigvalue_util.get_lambda_list_ci_square_list_qha(eig_agent_bdd, start_modeid, end_modeid, cutoff)\n",
    "\n",
    "host = 'pnas_amber_16mer'\n",
    "type_na = 'arna+arna'\n",
    "n_atoms = d_natoms[type_na]\n",
    "eig_agent_arr = eigvect_eigvalue_util.EigvectEigvalueAgent(host, type_na, n_atoms)\n",
    "qha_eigenvalues, c_square_array_arr = eigvect_eigvalue_util.get_lambda_list_ci_square_list_qha(eig_agent_arr, start_modeid, end_modeid, cutoff)"
   ]
  },
  {
   "cell_type": "code",
   "execution_count": 3,
   "metadata": {},
   "outputs": [
    {
     "name": "stdout",
     "output_type": "stream",
     "text": [
      "/home/yizaochen/PycharmProjects/connect_macro_micro/pnas_amber_16mer/arna+arna/force exists\n"
     ]
    }
   ],
   "source": [
    "host = 'pnas_amber_16mer'\n",
    "type_na = 'arna+arna'\n",
    "\n",
    "n_atoms = d_natoms[type_na]\n",
    "dof = n_atoms * 3\n",
    "f_agent_arr = force_util.ForceAgent(host, type_na, dof=dof)\n",
    "\n",
    "v1_id = '34'\n",
    "v2_id = '1112'\n",
    "\n",
    "start_mode = 1\n",
    "end_mode = 5"
   ]
  },
  {
   "cell_type": "code",
   "execution_count": 4,
   "metadata": {},
   "outputs": [
    {
     "name": "stdout",
     "output_type": "stream",
     "text": [
      "/home/yizaochen/PycharmProjects/connect_macro_micro/pnas_amber_16mer/bdna+bdna/force exists\n"
     ]
    }
   ],
   "source": [
    "host = 'pnas_amber_16mer'\n",
    "type_na = 'bdna+bdna'\n",
    "\n",
    "n_atoms = d_natoms[type_na]\n",
    "dof = n_atoms * 3\n",
    "f_agent_bdd = force_util.ForceAgent(host, type_na, dof=dof)\n",
    "\n",
    "v1_id = '34'\n",
    "v2_id = '1112'\n",
    "\n",
    "start_mode = 1\n",
    "end_mode = 5"
   ]
  },
  {
   "cell_type": "code",
   "execution_count": 5,
   "metadata": {},
   "outputs": [
    {
     "data": {
      "image/png": "[encoded data removed]",
      "text/plain": [
       "<Figure size 213.84x292.896 with 5 Axes>"
      ]
     },
     "metadata": {
      "needs_background": "light"
     },
     "output_type": "display_data"
    }
   ],
   "source": [
    "x=2.9699999999999998\n",
    "y=4.068\n",
    "figsize = (x, y)\n",
    "dpi = 100\n",
    "fig, d_axes = fig4.plot_main(f_agent_arr, f_agent_bdd, c_square_array_arr, c_square_array_bdd, figsize, dpi)"
   ]
  },
  {
   "cell_type": "markdown",
   "metadata": {},
   "source": [
    "### Reload Function"
   ]
  },
  {
   "cell_type": "code",
   "execution_count": 80,
   "metadata": {},
   "outputs": [
    {
     "data": {
      "text/plain": [
       "<module 'fig4' from '/home/yizaochen/PycharmProjects/na_paper1_2019/ipynbs/draw_zone/figure4/fig4.py'>"
      ]
     },
     "execution_count": 80,
     "metadata": {},
     "output_type": "execute_result"
    }
   ],
   "source": [
    "from imp import reload\n",
    "reload(fig4)"
   ]
  },
  {
   "cell_type": "code",
   "execution_count": null,
   "metadata": {},
   "outputs": [],
   "source": []
  }
 ],
 "metadata": {
  "kernelspec": {
   "display_name": "Python 3",
   "language": "python",
   "name": "python3"
  },
  "language_info": {
   "codemirror_mode": {
    "name": "ipython",
    "version": 3
   },
   "file_extension": ".py",
   "mimetype": "text/x-python",
   "name": "python",
   "nbconvert_exporter": "python",
   "pygments_lexer": "ipython3",
   "version": "3.7.6"
  }
 },
 "nbformat": 4,
 "nbformat_minor": 4
}
