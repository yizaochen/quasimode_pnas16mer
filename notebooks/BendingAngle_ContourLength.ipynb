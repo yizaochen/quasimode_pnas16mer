{
 "cells": [
  {
   "cell_type": "code",
   "execution_count": 1,
   "metadata": {},
   "outputs": [],
   "source": [
    "import matplotlib.pyplot as plt\n",
    "from quasimode import variance\n",
    "from quasimode.variance import VarianceDecompose\n",
    "from quasimode import plot_util\n",
    "\n",
    "rootfolder = '/home/yizaochen/codes/dna_rna/quasimode_pnas16mer'\n",
    "v1_id = '34'\n",
    "v2_id = '1112'\n",
    "start_mode = 1\n",
    "end_mode = 5"
   ]
  },
  {
   "cell_type": "markdown",
   "metadata": {},
   "source": [
    "### Part 1: Read DataFrame"
   ]
  },
  {
   "cell_type": "code",
   "execution_count": 2,
   "metadata": {},
   "outputs": [],
   "source": [
    "v_agent_arr = VarianceDecompose(rootfolder, 'arna+arna')\n",
    "df_arr = v_agent_arr.read_c2_doperator_dc_df(v1_id, v2_id)\n",
    "v_agent_bdd = VarianceDecompose(rootfolder, 'bdna+bdna')\n",
    "df_bdd = v_agent_bdd.read_c2_doperator_dc_df(v1_id, v2_id)"
   ]
  },
  {
   "cell_type": "code",
   "execution_count": 7,
   "metadata": {},
   "outputs": [
    {
     "data": {
      "text/html": [
       "<div>\n",
       "<style scoped>\n",
       "    .dataframe tbody tr th:only-of-type {\n",
       "        vertical-align: middle;\n",
       "    }\n",
       "\n",
       "    .dataframe tbody tr th {\n",
       "        vertical-align: top;\n",
       "    }\n",
       "\n",
       "    .dataframe thead th {\n",
       "        text-align: right;\n",
       "    }\n",
       "</style>\n",
       "<table border=\"1\" class=\"dataframe\">\n",
       "  <thead>\n",
       "    <tr style=\"text-align: right;\">\n",
       "      <th></th>\n",
       "      <th>Mode-ID</th>\n",
       "      <th>&lt;c2&gt;</th>\n",
       "      <th>dtheta_dc</th>\n",
       "      <th>dL_dc</th>\n",
       "      <th>domega_dc</th>\n",
       "    </tr>\n",
       "  </thead>\n",
       "  <tbody>\n",
       "    <tr>\n",
       "      <th>0</th>\n",
       "      <td>1</td>\n",
       "      <td>484.665982</td>\n",
       "      <td>-0.005377</td>\n",
       "      <td>0.034285</td>\n",
       "      <td>-0.000100</td>\n",
       "    </tr>\n",
       "    <tr>\n",
       "      <th>1</th>\n",
       "      <td>2</td>\n",
       "      <td>390.721134</td>\n",
       "      <td>0.001420</td>\n",
       "      <td>-0.012407</td>\n",
       "      <td>-0.000249</td>\n",
       "    </tr>\n",
       "    <tr>\n",
       "      <th>2</th>\n",
       "      <td>3</td>\n",
       "      <td>237.670644</td>\n",
       "      <td>0.004027</td>\n",
       "      <td>0.040688</td>\n",
       "      <td>-0.006958</td>\n",
       "    </tr>\n",
       "    <tr>\n",
       "      <th>3</th>\n",
       "      <td>4</td>\n",
       "      <td>159.344202</td>\n",
       "      <td>-0.001098</td>\n",
       "      <td>0.030573</td>\n",
       "      <td>0.006053</td>\n",
       "    </tr>\n",
       "    <tr>\n",
       "      <th>4</th>\n",
       "      <td>5</td>\n",
       "      <td>115.443077</td>\n",
       "      <td>0.000463</td>\n",
       "      <td>0.012169</td>\n",
       "      <td>0.000402</td>\n",
       "    </tr>\n",
       "  </tbody>\n",
       "</table>\n",
       "</div>"
      ],
      "text/plain": [
       "   Mode-ID        <c2>  dtheta_dc     dL_dc  domega_dc\n",
       "0        1  484.665982  -0.005377  0.034285  -0.000100\n",
       "1        2  390.721134   0.001420 -0.012407  -0.000249\n",
       "2        3  237.670644   0.004027  0.040688  -0.006958\n",
       "3        4  159.344202  -0.001098  0.030573   0.006053\n",
       "4        5  115.443077   0.000463  0.012169   0.000402"
      ]
     },
     "execution_count": 7,
     "metadata": {},
     "output_type": "execute_result"
    }
   ],
   "source": [
    "df_arr.head()"
   ]
  },
  {
   "cell_type": "markdown",
   "metadata": {},
   "source": [
    "### Part 2: Process data for plotting"
   ]
  },
  {
   "cell_type": "code",
   "execution_count": 3,
   "metadata": {},
   "outputs": [],
   "source": [
    "d_data = {'top': dict(), 'bottom': dict()}\n",
    "d_data['top']['left'] = variance.get_data_by_df_bend_angle(df_arr, start_mode, end_mode)\n",
    "d_data['top']['right'] = variance.get_data_by_df_bend_angle(df_bdd, start_mode, end_mode)\n",
    "d_data['bottom']['left'] = variance.get_data_by_df_contour_length(df_arr, start_mode, end_mode)\n",
    "d_data['bottom']['right'] = variance.get_data_by_df_contour_length(df_bdd, start_mode, end_mode)"
   ]
  },
  {
   "cell_type": "markdown",
   "metadata": {},
   "source": [
    "### Part 3: Plot"
   ]
  },
  {
   "cell_type": "code",
   "execution_count": 9,
   "metadata": {},
   "outputs": [],
   "source": [
    "ylabels = {'bend': r'$(\\theta_{i}^\\prime)^2\\left<c_{i}^{2}\\right>$ ($\\mathrm{rad}^{2}$)',\n",
    "           'contourlength': r'$(L^{\\prime}_{i})^{2}\\left<c_{i}^{2}\\right>$   ($\\mathrm{\\AA}^{2}$)'}"
   ]
  },
  {
   "cell_type": "code",
   "execution_count": 11,
   "metadata": {},
   "outputs": [
    {
     "data": {
      "image/png": "[encoded data removed]",
      "text/plain": [
       "<Figure size 576x576 with 4 Axes>"
      ]
     },
     "metadata": {
      "needs_background": "light"
     },
     "output_type": "display_data"
    }
   ],
   "source": [
    "fig = plt.figure(figsize=(8,8))\n",
    "d_axes = plot_util.make_grid_and_get_axes_dict(fig)\n",
    "xlist = range(1,6)\n",
    "w = 0.5\n",
    "ttfz = 16\n",
    "lbfz = 14\n",
    "\n",
    "# top left\n",
    "ax = d_axes['top']['left']\n",
    "ylist = d_data['top']['left']\n",
    "ax.bar(xlist, ylist, w, color='red')\n",
    "ax.set_title('dsRNA', fontsize=ttfz)\n",
    "ax.tick_params(axis='x', which='both', labelbottom=False)\n",
    "ax.ticklabel_format(style='sci', axis='y', scilimits=(0,0), useMathText=True)\n",
    "ax.set_ylabel(ylabels['bend'], fontsize=lbfz)\n",
    "\n",
    "# top right\n",
    "ax = d_axes['top']['right']\n",
    "ylist = d_data['top']['right']\n",
    "ax.bar(xlist, ylist, w, color='blue')\n",
    "ax.set_title('dsDNA', fontsize=ttfz)\n",
    "ax.tick_params(axis='x', which='both', labelbottom=False)\n",
    "ax.ticklabel_format(style='sci', axis='y', scilimits=(0,0), useMathText=True)\n",
    "\n",
    "# bottom left\n",
    "ax = d_axes['bottom']['left']\n",
    "ylist = d_data['bottom']['left']\n",
    "ax.bar(xlist, ylist, w, color='red')\n",
    "ax.ticklabel_format(style='sci', axis='y', scilimits=(0,0), useMathText=True)\n",
    "ax.set_xlabel(r'mode index $i$', fontsize=lbfz)\n",
    "ax.set_ylabel(ylabels['contourlength'], fontsize=lbfz)\n",
    "\n",
    "# bottom right\n",
    "ax = d_axes['bottom']['right']\n",
    "ylist = d_data['bottom']['right']\n",
    "ax.bar(xlist, ylist, w, color='blue')\n",
    "ax.ticklabel_format(style='sci', axis='y', scilimits=(0,0), useMathText=True)\n",
    "ax.set_xlabel(r'mode index $i$', fontsize=lbfz)\n",
    "\n",
    "#plt.savefig('bending_stretching.svg')\n",
    "plt.show()"
   ]
  },
  {
   "cell_type": "code",
   "execution_count": null,
   "metadata": {},
   "outputs": [],
   "source": []
  }
 ],
 "metadata": {
  "kernelspec": {
   "display_name": "Python 3",
   "language": "python",
   "name": "python3"
  },
  "language_info": {
   "codemirror_mode": {
    "name": "ipython",
    "version": 3
   },
   "file_extension": ".py",
   "mimetype": "text/x-python",
   "name": "python",
   "nbconvert_exporter": "python",
   "pygments_lexer": "ipython3",
   "version": "3.8.5"
  }
 },
 "nbformat": 4,
 "nbformat_minor": 4
}
